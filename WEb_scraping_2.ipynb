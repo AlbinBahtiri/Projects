{
  "cells": [
    {
      "cell_type": "markdown",
      "metadata": {
        "id": "view-in-github",
        "colab_type": "text"
      },
      "source": [
        "<a href=\"https://colab.research.google.com/github/AlbinBahtiri/Python-Projects/blob/main/WEb_scraping_2.ipynb\" target=\"_parent\"><img src=\"https://colab.research.google.com/assets/colab-badge.svg\" alt=\"Open In Colab\"/></a>"
      ]
    },
    {
      "cell_type": "code",
      "source": [
        "import requests\n",
        "import pandas as pd\n",
        "from bs4 import BeautifulSoup\n",
        "import matplotlib.pyplot as plt\n",
        "%matplotlib inline"
      ],
      "metadata": {
        "id": "FE41HNB6YMxW"
      },
      "execution_count": null,
      "outputs": []
    },
    {
      "cell_type": "code",
      "source": [
        "#url = 'https://www.neptun-ks.com/smartphone.nspx?brands=41&page=1&priceRange=199_1949'\n",
        "url = 'https://gjirafa50.com/celular-tablet-navigim-1/celular-1/?rel=2'\n"
      ],
      "metadata": {
        "id": "-qJxuuZSYRQ2"
      },
      "execution_count": null,
      "outputs": []
    },
    {
      "cell_type": "code",
      "source": [
        "# Access the webpage content\n",
        "r = requests.get(url)\n",
        "r.status_code"
      ],
      "metadata": {
        "id": "_X72TOI2YS1M",
        "colab": {
          "base_uri": "https://localhost:8080/"
        },
        "outputId": "03f6f726-6544-43e4-c154-8b1468d973d1"
      },
      "execution_count": null,
      "outputs": [
        {
          "output_type": "execute_result",
          "data": {
            "text/plain": [
              "200"
            ]
          },
          "metadata": {},
          "execution_count": 3
        }
      ]
    },
    {
      "cell_type": "code",
      "source": [
        "# Parse the HTML page\n",
        "soup = BeautifulSoup(r.text, 'html.parser')"
      ],
      "metadata": {
        "id": "SWbwUOMnYXMT"
      },
      "execution_count": null,
      "outputs": []
    },
    {
      "cell_type": "code",
      "source": [
        "produktet = soup.find_all(\"div\", class_=\"ty-grid-list__item-name\")\n",
        "\n",
        "prodi = []\n",
        "for produkti in produktet:\n",
        "    prodi.append(produkti.find('a', {'class': 'product-title'}).text)\n",
        "prodi"
      ],
      "metadata": {
        "colab": {
          "base_uri": "https://localhost:8080/"
        },
        "id": "6oMKxg5yYdsP",
        "outputId": "56550c22-5e46-45b2-daf3-6934640e5f7d"
      },
      "execution_count": null,
      "outputs": [
        {
          "output_type": "execute_result",
          "data": {
            "text/plain": [
              "['Karikues i makinës AXAGON PWC-5V5, SMART, 2x 5V-2.4A + 2.4A, 24W ',\n",
              " 'Mbrojtëse Samsung Clear View për Galaxy Note10, argjendi',\n",
              " 'Xham PanzerGlass Premium për Samsung G975 Galaxy S10+',\n",
              " 'Karikues Scosche, 36W, 2x USB-C',\n",
              " 'Mbrojtëse Fixed TPU për Huawei P30 Lite, transparente',\n",
              " 'Xham Forever për Huawei P10 Lite',\n",
              " 'Mbrojtëse Apple për iPhone Xr, transparente',\n",
              " 'Xham mbrojtës Forever për Huawei P20, transparent',\n",
              " 'Xham mbrojtës Screenshield për SAMSUNG G965 Galaxy S9 Plus, e zezë',\n",
              " 'Mbajtëse dhe karikues wireless për makinë Scosche MOUNT',\n",
              " 'Folie mbrojtëse ScreenShield për Samsung G965 Galaxy S9 Plus',\n",
              " 'Bateri Patona Nokia 3310 BLC-2, 1300mAh, 3,7V Li-Ion',\n",
              " 'Folie mbrojtëse për Xiaomi Redmi Note 4 Global',\n",
              " 'Xham mbrojtës EPIC për Sony Xperia X Compact',\n",
              " 'Mbushës Paton 2në1 për kamerat Canon LP-E17, 230V/12V',\n",
              " 'Celular Aligator A321, dual SIM, SOS, i bardhë',\n",
              " 'Mbrojtëse \"Smart Battery\" për Apple iPhone 7, e kuqe',\n",
              " 'Mbrojtëse Lenuo Leshield për iPhone 13, e kuqe',\n",
              " 'Celular Samsung Galaxy A23 5G, 6.6\" FHD+, 4GB RAM, 64GB, i zi',\n",
              " 'Mbrojtëse lëkure Samsung për Galaxy Z Fold 4, e zezë',\n",
              " 'Mbrojtëse FIXED MagPure me mbështetje Magsafe për Apple iPhone 14 Pro, transparente',\n",
              " 'Celular Samsung Galaxy S22, 6.1\", 5G, 8GB RAM, 128GB, vjollcë e hapur',\n",
              " 'Celular iGET Blackview GBL8800, 6.58\" FHD+, 8GB RAM, 128GB, i zi',\n",
              " 'Apple iPhone 14 Plus, 256GB, Starlight']"
            ]
          },
          "metadata": {},
          "execution_count": 5
        }
      ]
    },
    {
      "cell_type": "code",
      "source": [
        "cmimet = soup.find_all('span', {'class': 'ty-price-num'})\n",
        "\n",
        "# create a list of lines corresponding to element texts\n",
        "l = [span.get_text() for span in cmimet]\n",
        "\n",
        "l"
      ],
      "metadata": {
        "colab": {
          "base_uri": "https://localhost:8080/"
        },
        "id": "8MEbFR5yYnkk",
        "outputId": "ecb107ba-af94-4c42-db4c-a3613841d3ef"
      },
      "execution_count": null,
      "outputs": [
        {
          "output_type": "execute_result",
          "data": {
            "text/plain": [
              "['13.50',\n",
              " '€',\n",
              " '22.50',\n",
              " '€',\n",
              " '44.50',\n",
              " '€',\n",
              " '36.50',\n",
              " '€',\n",
              " '13.50',\n",
              " '€',\n",
              " '6.50',\n",
              " '€',\n",
              " '55.50',\n",
              " '€',\n",
              " '16.50',\n",
              " '€',\n",
              " '22.50',\n",
              " '€',\n",
              " '57.50',\n",
              " '€',\n",
              " '9.50',\n",
              " '€',\n",
              " '25.50',\n",
              " '€',\n",
              " '15.50',\n",
              " '€',\n",
              " '13.50',\n",
              " '€',\n",
              " '21.50',\n",
              " '€',\n",
              " '49.50',\n",
              " '€',\n",
              " '138.50',\n",
              " '€',\n",
              " '19.50',\n",
              " '€',\n",
              " '349.50',\n",
              " '€',\n",
              " '112.50',\n",
              " '€',\n",
              " '34.50',\n",
              " '€',\n",
              " '929.50',\n",
              " '€',\n",
              " '661.50',\n",
              " '€',\n",
              " '1,459.50',\n",
              " '€']"
            ]
          },
          "metadata": {},
          "execution_count": 6
        }
      ]
    },
    {
      "cell_type": "code",
      "source": [
        "# remove lines with Euro sign\n",
        "cmimet_ok = [ x for x in l if \"€\" not in x ]\n",
        "\n",
        "cmimet_ok"
      ],
      "metadata": {
        "id": "DY_S53tOY8wT",
        "colab": {
          "base_uri": "https://localhost:8080/"
        },
        "outputId": "24a79ba9-d624-4b16-ae73-248bbcd6ee56"
      },
      "execution_count": null,
      "outputs": [
        {
          "output_type": "execute_result",
          "data": {
            "text/plain": [
              "['13.50',\n",
              " '22.50',\n",
              " '44.50',\n",
              " '36.50',\n",
              " '13.50',\n",
              " '6.50',\n",
              " '55.50',\n",
              " '16.50',\n",
              " '22.50',\n",
              " '57.50',\n",
              " '9.50',\n",
              " '25.50',\n",
              " '15.50',\n",
              " '13.50',\n",
              " '21.50',\n",
              " '49.50',\n",
              " '138.50',\n",
              " '19.50',\n",
              " '349.50',\n",
              " '112.50',\n",
              " '34.50',\n",
              " '929.50',\n",
              " '661.50',\n",
              " '1,459.50']"
            ]
          },
          "metadata": {},
          "execution_count": 7
        }
      ]
    },
    {
      "cell_type": "code",
      "source": [
        "# empty data frame\n",
        "data = pd.DataFrame()\n",
        "\n",
        "#create specific columns\n",
        "data['Produkti'] = prodi\n",
        "data['Cmimi'] = cmimet_ok\n",
        "\n",
        "\n",
        "data"
      ],
      "metadata": {
        "colab": {
          "base_uri": "https://localhost:8080/",
          "height": 802
        },
        "id": "UMhBPPWzYyzr",
        "outputId": "2d885a47-13d8-4e11-95bf-d07b418e9ec6"
      },
      "execution_count": null,
      "outputs": [
        {
          "output_type": "execute_result",
          "data": {
            "text/plain": [
              "                                             Produkti     Cmimi\n",
              "0   Karikues i makinës AXAGON PWC-5V5, SMART, 2x 5...     13.50\n",
              "1   Mbrojtëse Samsung Clear View për Galaxy Note10...     22.50\n",
              "2   Xham PanzerGlass Premium për Samsung G975 Gala...     44.50\n",
              "3                     Karikues Scosche, 36W, 2x USB-C     36.50\n",
              "4   Mbrojtëse Fixed TPU për Huawei P30 Lite, trans...     13.50\n",
              "5                    Xham Forever për Huawei P10 Lite      6.50\n",
              "6         Mbrojtëse Apple për iPhone Xr, transparente     55.50\n",
              "7   Xham mbrojtës Forever për Huawei P20, transparent     16.50\n",
              "8   Xham mbrojtës Screenshield për SAMSUNG G965 Ga...     22.50\n",
              "9   Mbajtëse dhe karikues wireless për makinë Scos...     57.50\n",
              "10  Folie mbrojtëse ScreenShield për Samsung G965 ...      9.50\n",
              "11  Bateri Patona Nokia 3310 BLC-2, 1300mAh, 3,7V ...     25.50\n",
              "12     Folie mbrojtëse për Xiaomi Redmi Note 4 Global     15.50\n",
              "13       Xham mbrojtës EPIC për Sony Xperia X Compact     13.50\n",
              "14  Mbushës Paton 2në1 për kamerat Canon LP-E17, 2...     21.50\n",
              "15     Celular Aligator A321, dual SIM, SOS, i bardhë     49.50\n",
              "16  Mbrojtëse \"Smart Battery\" për Apple iPhone 7, ...    138.50\n",
              "17     Mbrojtëse Lenuo Leshield për iPhone 13, e kuqe     19.50\n",
              "18  Celular Samsung Galaxy A23 5G, 6.6\" FHD+, 4GB ...    349.50\n",
              "19  Mbrojtëse lëkure Samsung për Galaxy Z Fold 4, ...    112.50\n",
              "20  Mbrojtëse FIXED MagPure me mbështetje Magsafe ...     34.50\n",
              "21  Celular Samsung Galaxy S22, 6.1\", 5G, 8GB RAM,...    929.50\n",
              "22  Celular iGET Blackview GBL8800, 6.58\" FHD+, 8G...    661.50\n",
              "23             Apple iPhone 14 Plus, 256GB, Starlight  1,459.50"
            ],
            "text/html": [
              "\n",
              "  <div id=\"df-664edebf-3623-42ae-a7e3-fdd1e7e3a86f\">\n",
              "    <div class=\"colab-df-container\">\n",
              "      <div>\n",
              "<style scoped>\n",
              "    .dataframe tbody tr th:only-of-type {\n",
              "        vertical-align: middle;\n",
              "    }\n",
              "\n",
              "    .dataframe tbody tr th {\n",
              "        vertical-align: top;\n",
              "    }\n",
              "\n",
              "    .dataframe thead th {\n",
              "        text-align: right;\n",
              "    }\n",
              "</style>\n",
              "<table border=\"1\" class=\"dataframe\">\n",
              "  <thead>\n",
              "    <tr style=\"text-align: right;\">\n",
              "      <th></th>\n",
              "      <th>Produkti</th>\n",
              "      <th>Cmimi</th>\n",
              "    </tr>\n",
              "  </thead>\n",
              "  <tbody>\n",
              "    <tr>\n",
              "      <th>0</th>\n",
              "      <td>Karikues i makinës AXAGON PWC-5V5, SMART, 2x 5...</td>\n",
              "      <td>13.50</td>\n",
              "    </tr>\n",
              "    <tr>\n",
              "      <th>1</th>\n",
              "      <td>Mbrojtëse Samsung Clear View për Galaxy Note10...</td>\n",
              "      <td>22.50</td>\n",
              "    </tr>\n",
              "    <tr>\n",
              "      <th>2</th>\n",
              "      <td>Xham PanzerGlass Premium për Samsung G975 Gala...</td>\n",
              "      <td>44.50</td>\n",
              "    </tr>\n",
              "    <tr>\n",
              "      <th>3</th>\n",
              "      <td>Karikues Scosche, 36W, 2x USB-C</td>\n",
              "      <td>36.50</td>\n",
              "    </tr>\n",
              "    <tr>\n",
              "      <th>4</th>\n",
              "      <td>Mbrojtëse Fixed TPU për Huawei P30 Lite, trans...</td>\n",
              "      <td>13.50</td>\n",
              "    </tr>\n",
              "    <tr>\n",
              "      <th>5</th>\n",
              "      <td>Xham Forever për Huawei P10 Lite</td>\n",
              "      <td>6.50</td>\n",
              "    </tr>\n",
              "    <tr>\n",
              "      <th>6</th>\n",
              "      <td>Mbrojtëse Apple për iPhone Xr, transparente</td>\n",
              "      <td>55.50</td>\n",
              "    </tr>\n",
              "    <tr>\n",
              "      <th>7</th>\n",
              "      <td>Xham mbrojtës Forever për Huawei P20, transparent</td>\n",
              "      <td>16.50</td>\n",
              "    </tr>\n",
              "    <tr>\n",
              "      <th>8</th>\n",
              "      <td>Xham mbrojtës Screenshield për SAMSUNG G965 Ga...</td>\n",
              "      <td>22.50</td>\n",
              "    </tr>\n",
              "    <tr>\n",
              "      <th>9</th>\n",
              "      <td>Mbajtëse dhe karikues wireless për makinë Scos...</td>\n",
              "      <td>57.50</td>\n",
              "    </tr>\n",
              "    <tr>\n",
              "      <th>10</th>\n",
              "      <td>Folie mbrojtëse ScreenShield për Samsung G965 ...</td>\n",
              "      <td>9.50</td>\n",
              "    </tr>\n",
              "    <tr>\n",
              "      <th>11</th>\n",
              "      <td>Bateri Patona Nokia 3310 BLC-2, 1300mAh, 3,7V ...</td>\n",
              "      <td>25.50</td>\n",
              "    </tr>\n",
              "    <tr>\n",
              "      <th>12</th>\n",
              "      <td>Folie mbrojtëse për Xiaomi Redmi Note 4 Global</td>\n",
              "      <td>15.50</td>\n",
              "    </tr>\n",
              "    <tr>\n",
              "      <th>13</th>\n",
              "      <td>Xham mbrojtës EPIC për Sony Xperia X Compact</td>\n",
              "      <td>13.50</td>\n",
              "    </tr>\n",
              "    <tr>\n",
              "      <th>14</th>\n",
              "      <td>Mbushës Paton 2në1 për kamerat Canon LP-E17, 2...</td>\n",
              "      <td>21.50</td>\n",
              "    </tr>\n",
              "    <tr>\n",
              "      <th>15</th>\n",
              "      <td>Celular Aligator A321, dual SIM, SOS, i bardhë</td>\n",
              "      <td>49.50</td>\n",
              "    </tr>\n",
              "    <tr>\n",
              "      <th>16</th>\n",
              "      <td>Mbrojtëse \"Smart Battery\" për Apple iPhone 7, ...</td>\n",
              "      <td>138.50</td>\n",
              "    </tr>\n",
              "    <tr>\n",
              "      <th>17</th>\n",
              "      <td>Mbrojtëse Lenuo Leshield për iPhone 13, e kuqe</td>\n",
              "      <td>19.50</td>\n",
              "    </tr>\n",
              "    <tr>\n",
              "      <th>18</th>\n",
              "      <td>Celular Samsung Galaxy A23 5G, 6.6\" FHD+, 4GB ...</td>\n",
              "      <td>349.50</td>\n",
              "    </tr>\n",
              "    <tr>\n",
              "      <th>19</th>\n",
              "      <td>Mbrojtëse lëkure Samsung për Galaxy Z Fold 4, ...</td>\n",
              "      <td>112.50</td>\n",
              "    </tr>\n",
              "    <tr>\n",
              "      <th>20</th>\n",
              "      <td>Mbrojtëse FIXED MagPure me mbështetje Magsafe ...</td>\n",
              "      <td>34.50</td>\n",
              "    </tr>\n",
              "    <tr>\n",
              "      <th>21</th>\n",
              "      <td>Celular Samsung Galaxy S22, 6.1\", 5G, 8GB RAM,...</td>\n",
              "      <td>929.50</td>\n",
              "    </tr>\n",
              "    <tr>\n",
              "      <th>22</th>\n",
              "      <td>Celular iGET Blackview GBL8800, 6.58\" FHD+, 8G...</td>\n",
              "      <td>661.50</td>\n",
              "    </tr>\n",
              "    <tr>\n",
              "      <th>23</th>\n",
              "      <td>Apple iPhone 14 Plus, 256GB, Starlight</td>\n",
              "      <td>1,459.50</td>\n",
              "    </tr>\n",
              "  </tbody>\n",
              "</table>\n",
              "</div>\n",
              "      <button class=\"colab-df-convert\" onclick=\"convertToInteractive('df-664edebf-3623-42ae-a7e3-fdd1e7e3a86f')\"\n",
              "              title=\"Convert this dataframe to an interactive table.\"\n",
              "              style=\"display:none;\">\n",
              "        \n",
              "  <svg xmlns=\"http://www.w3.org/2000/svg\" height=\"24px\"viewBox=\"0 0 24 24\"\n",
              "       width=\"24px\">\n",
              "    <path d=\"M0 0h24v24H0V0z\" fill=\"none\"/>\n",
              "    <path d=\"M18.56 5.44l.94 2.06.94-2.06 2.06-.94-2.06-.94-.94-2.06-.94 2.06-2.06.94zm-11 1L8.5 8.5l.94-2.06 2.06-.94-2.06-.94L8.5 2.5l-.94 2.06-2.06.94zm10 10l.94 2.06.94-2.06 2.06-.94-2.06-.94-.94-2.06-.94 2.06-2.06.94z\"/><path d=\"M17.41 7.96l-1.37-1.37c-.4-.4-.92-.59-1.43-.59-.52 0-1.04.2-1.43.59L10.3 9.45l-7.72 7.72c-.78.78-.78 2.05 0 2.83L4 21.41c.39.39.9.59 1.41.59.51 0 1.02-.2 1.41-.59l7.78-7.78 2.81-2.81c.8-.78.8-2.07 0-2.86zM5.41 20L4 18.59l7.72-7.72 1.47 1.35L5.41 20z\"/>\n",
              "  </svg>\n",
              "      </button>\n",
              "      \n",
              "  <style>\n",
              "    .colab-df-container {\n",
              "      display:flex;\n",
              "      flex-wrap:wrap;\n",
              "      gap: 12px;\n",
              "    }\n",
              "\n",
              "    .colab-df-convert {\n",
              "      background-color: #E8F0FE;\n",
              "      border: none;\n",
              "      border-radius: 50%;\n",
              "      cursor: pointer;\n",
              "      display: none;\n",
              "      fill: #1967D2;\n",
              "      height: 32px;\n",
              "      padding: 0 0 0 0;\n",
              "      width: 32px;\n",
              "    }\n",
              "\n",
              "    .colab-df-convert:hover {\n",
              "      background-color: #E2EBFA;\n",
              "      box-shadow: 0px 1px 2px rgba(60, 64, 67, 0.3), 0px 1px 3px 1px rgba(60, 64, 67, 0.15);\n",
              "      fill: #174EA6;\n",
              "    }\n",
              "\n",
              "    [theme=dark] .colab-df-convert {\n",
              "      background-color: #3B4455;\n",
              "      fill: #D2E3FC;\n",
              "    }\n",
              "\n",
              "    [theme=dark] .colab-df-convert:hover {\n",
              "      background-color: #434B5C;\n",
              "      box-shadow: 0px 1px 3px 1px rgba(0, 0, 0, 0.15);\n",
              "      filter: drop-shadow(0px 1px 2px rgba(0, 0, 0, 0.3));\n",
              "      fill: #FFFFFF;\n",
              "    }\n",
              "  </style>\n",
              "\n",
              "      <script>\n",
              "        const buttonEl =\n",
              "          document.querySelector('#df-664edebf-3623-42ae-a7e3-fdd1e7e3a86f button.colab-df-convert');\n",
              "        buttonEl.style.display =\n",
              "          google.colab.kernel.accessAllowed ? 'block' : 'none';\n",
              "\n",
              "        async function convertToInteractive(key) {\n",
              "          const element = document.querySelector('#df-664edebf-3623-42ae-a7e3-fdd1e7e3a86f');\n",
              "          const dataTable =\n",
              "            await google.colab.kernel.invokeFunction('convertToInteractive',\n",
              "                                                     [key], {});\n",
              "          if (!dataTable) return;\n",
              "\n",
              "          const docLinkHtml = 'Like what you see? Visit the ' +\n",
              "            '<a target=\"_blank\" href=https://colab.research.google.com/notebooks/data_table.ipynb>data table notebook</a>'\n",
              "            + ' to learn more about interactive tables.';\n",
              "          element.innerHTML = '';\n",
              "          dataTable['output_type'] = 'display_data';\n",
              "          await google.colab.output.renderOutput(dataTable, element);\n",
              "          const docLink = document.createElement('div');\n",
              "          docLink.innerHTML = docLinkHtml;\n",
              "          element.appendChild(docLink);\n",
              "        }\n",
              "      </script>\n",
              "    </div>\n",
              "  </div>\n",
              "  "
            ]
          },
          "metadata": {},
          "execution_count": 8
        }
      ]
    },
    {
      "cell_type": "code",
      "source": [
        "data.to_csv('gjirafaProd.csv', index=False)"
      ],
      "metadata": {
        "id": "0bsN9xdVprVI"
      },
      "execution_count": null,
      "outputs": []
    }
  ],
  "metadata": {
    "kernelspec": {
      "display_name": "Python 3",
      "language": "python",
      "name": "python3"
    },
    "language_info": {
      "codemirror_mode": {
        "name": "ipython",
        "version": 3
      },
      "file_extension": ".py",
      "mimetype": "text/x-python",
      "name": "python",
      "nbconvert_exporter": "python",
      "pygments_lexer": "ipython3",
      "version": "3.6.5"
    },
    "colab": {
      "provenance": [],
      "include_colab_link": true
    }
  },
  "nbformat": 4,
  "nbformat_minor": 0
}